{
  "cells": [
    {
      "attachments": {},
      "cell_type": "markdown",
      "metadata": {
        "id": "53_a_96B7-pl"
      },
      "source": [
        "# Dependencias\n"
      ]
    },
    {
      "cell_type": "code",
      "execution_count": 54,
      "metadata": {
        "id": "RjVKwDI-6GG8"
      },
      "outputs": [
        {
          "name": "stdout",
          "output_type": "stream",
          "text": [
            "Defaulting to user installation because normal site-packages is not writeable\n",
            "Requirement already satisfied: gradio in c:\\users\\quin-\\appdata\\roaming\\python\\python37\\site-packages (3.28.3)\n",
            "Requirement already satisfied: aiofiles in c:\\users\\quin-\\appdata\\roaming\\python\\python37\\site-packages (from gradio) (23.1.0)\n",
            "Requirement already satisfied: aiohttp in c:\\users\\quin-\\appdata\\roaming\\python\\python37\\site-packages (from gradio) (3.8.4)\n",
            "Requirement already satisfied: altair>=4.2.0 in c:\\users\\quin-\\appdata\\roaming\\python\\python37\\site-packages (from gradio) (4.2.2)\n",
            "Requirement already satisfied: fastapi in c:\\users\\quin-\\appdata\\roaming\\python\\python37\\site-packages (from gradio) (0.95.1)\n",
            "Requirement already satisfied: ffmpy in c:\\users\\quin-\\appdata\\roaming\\python\\python37\\site-packages (from gradio) (0.3.0)\n",
            "Requirement already satisfied: gradio-client>=0.1.3 in c:\\users\\quin-\\appdata\\roaming\\python\\python37\\site-packages (from gradio) (0.2.0)\n",
            "Requirement already satisfied: httpx in c:\\users\\quin-\\appdata\\roaming\\python\\python37\\site-packages (from gradio) (0.24.0)\n",
            "Requirement already satisfied: huggingface-hub>=0.13.0 in c:\\users\\quin-\\appdata\\roaming\\python\\python37\\site-packages (from gradio) (0.14.1)\n",
            "Requirement already satisfied: jinja2 in c:\\users\\quin-\\appdata\\roaming\\python\\python37\\site-packages (from gradio) (3.1.2)\n",
            "Requirement already satisfied: markdown-it-py[linkify]>=2.0.0 in c:\\users\\quin-\\appdata\\roaming\\python\\python37\\site-packages (from gradio) (2.2.0)\n",
            "Requirement already satisfied: markupsafe in c:\\users\\quin-\\appdata\\roaming\\python\\python37\\site-packages (from gradio) (2.1.2)\n",
            "Requirement already satisfied: matplotlib in c:\\users\\quin-\\appdata\\roaming\\python\\python37\\site-packages (from gradio) (3.5.3)\n",
            "Requirement already satisfied: mdit-py-plugins<=0.3.3 in c:\\users\\quin-\\appdata\\roaming\\python\\python37\\site-packages (from gradio) (0.3.3)\n",
            "Requirement already satisfied: numpy in c:\\users\\quin-\\appdata\\roaming\\python\\python37\\site-packages (from gradio) (1.21.6)\n",
            "Requirement already satisfied: orjson in c:\\users\\quin-\\appdata\\roaming\\python\\python37\\site-packages (from gradio) (3.8.11)\n",
            "Requirement already satisfied: pandas in c:\\users\\quin-\\appdata\\roaming\\python\\python37\\site-packages (from gradio) (1.3.5)\n",
            "Requirement already satisfied: pillow in c:\\users\\quin-\\appdata\\roaming\\python\\python37\\site-packages (from gradio) (9.4.0)\n",
            "Requirement already satisfied: pydantic in c:\\users\\quin-\\appdata\\roaming\\python\\python37\\site-packages (from gradio) (1.10.7)\n",
            "Requirement already satisfied: pydub in c:\\users\\quin-\\appdata\\roaming\\python\\python37\\site-packages (from gradio) (0.25.1)\n",
            "Requirement already satisfied: pygments>=2.12.0 in c:\\users\\quin-\\appdata\\roaming\\python\\python37\\site-packages (from gradio) (2.14.0)\n",
            "Requirement already satisfied: python-multipart in c:\\users\\quin-\\appdata\\roaming\\python\\python37\\site-packages (from gradio) (0.0.6)\n",
            "Requirement already satisfied: pyyaml in c:\\users\\quin-\\appdata\\roaming\\python\\python37\\site-packages (from gradio) (6.0)\n",
            "Requirement already satisfied: requests in c:\\users\\quin-\\appdata\\roaming\\python\\python37\\site-packages (from gradio) (2.29.0)\n",
            "Requirement already satisfied: semantic-version in c:\\users\\quin-\\appdata\\roaming\\python\\python37\\site-packages (from gradio) (2.10.0)\n",
            "Requirement already satisfied: typing-extensions in c:\\users\\quin-\\appdata\\roaming\\python\\python37\\site-packages (from gradio) (4.5.0)\n",
            "Requirement already satisfied: uvicorn in c:\\users\\quin-\\appdata\\roaming\\python\\python37\\site-packages (from gradio) (0.22.0)\n",
            "Requirement already satisfied: websockets>=10.0 in c:\\users\\quin-\\appdata\\roaming\\python\\python37\\site-packages (from gradio) (11.0.2)\n",
            "Requirement already satisfied: entrypoints in c:\\users\\quin-\\appdata\\roaming\\python\\python37\\site-packages (from altair>=4.2.0->gradio) (0.4)\n",
            "Requirement already satisfied: jsonschema>=3.0 in c:\\users\\quin-\\appdata\\roaming\\python\\python37\\site-packages (from altair>=4.2.0->gradio) (4.17.3)\n",
            "Requirement already satisfied: toolz in c:\\users\\quin-\\appdata\\roaming\\python\\python37\\site-packages (from altair>=4.2.0->gradio) (0.12.0)\n",
            "Requirement already satisfied: fsspec in c:\\users\\quin-\\appdata\\roaming\\python\\python37\\site-packages (from gradio-client>=0.1.3->gradio) (2023.1.0)\n",
            "Requirement already satisfied: packaging in c:\\users\\quin-\\appdata\\roaming\\python\\python37\\site-packages (from gradio-client>=0.1.3->gradio) (23.0)\n",
            "Requirement already satisfied: filelock in c:\\users\\quin-\\appdata\\roaming\\python\\python37\\site-packages (from huggingface-hub>=0.13.0->gradio) (3.12.0)\n",
            "Requirement already satisfied: tqdm>=4.42.1 in c:\\users\\quin-\\appdata\\roaming\\python\\python37\\site-packages (from huggingface-hub>=0.13.0->gradio) (4.65.0)\n",
            "Requirement already satisfied: importlib-metadata in c:\\users\\quin-\\appdata\\roaming\\python\\python37\\site-packages (from huggingface-hub>=0.13.0->gradio) (6.6.0)\n",
            "Requirement already satisfied: mdurl~=0.1 in c:\\users\\quin-\\appdata\\roaming\\python\\python37\\site-packages (from markdown-it-py[linkify]>=2.0.0->gradio) (0.1.2)\n",
            "Requirement already satisfied: linkify-it-py<3,>=1 in c:\\users\\quin-\\appdata\\roaming\\python\\python37\\site-packages (from markdown-it-py[linkify]>=2.0.0->gradio) (2.0.2)\n",
            "Requirement already satisfied: python-dateutil>=2.7.3 in c:\\users\\quin-\\appdata\\roaming\\python\\python37\\site-packages (from pandas->gradio) (2.8.2)\n",
            "Requirement already satisfied: pytz>=2017.3 in c:\\users\\quin-\\appdata\\roaming\\python\\python37\\site-packages (from pandas->gradio) (2022.7.1)\n",
            "Requirement already satisfied: attrs>=17.3.0 in c:\\users\\quin-\\appdata\\roaming\\python\\python37\\site-packages (from aiohttp->gradio) (23.1.0)\n",
            "Requirement already satisfied: charset-normalizer<4.0,>=2.0 in c:\\users\\quin-\\appdata\\roaming\\python\\python37\\site-packages (from aiohttp->gradio) (3.1.0)\n",
            "Requirement already satisfied: multidict<7.0,>=4.5 in c:\\users\\quin-\\appdata\\roaming\\python\\python37\\site-packages (from aiohttp->gradio) (6.0.4)\n",
            "Requirement already satisfied: async-timeout<5.0,>=4.0.0a3 in c:\\users\\quin-\\appdata\\roaming\\python\\python37\\site-packages (from aiohttp->gradio) (4.0.2)\n",
            "Requirement already satisfied: yarl<2.0,>=1.0 in c:\\users\\quin-\\appdata\\roaming\\python\\python37\\site-packages (from aiohttp->gradio) (1.9.2)\n",
            "Requirement already satisfied: frozenlist>=1.1.1 in c:\\users\\quin-\\appdata\\roaming\\python\\python37\\site-packages (from aiohttp->gradio) (1.3.3)\n",
            "Requirement already satisfied: aiosignal>=1.1.2 in c:\\users\\quin-\\appdata\\roaming\\python\\python37\\site-packages (from aiohttp->gradio) (1.3.1)\n",
            "Requirement already satisfied: asynctest==0.13.0 in c:\\users\\quin-\\appdata\\roaming\\python\\python37\\site-packages (from aiohttp->gradio) (0.13.0)\n",
            "Requirement already satisfied: starlette<0.27.0,>=0.26.1 in c:\\users\\quin-\\appdata\\roaming\\python\\python37\\site-packages (from fastapi->gradio) (0.26.1)\n",
            "Requirement already satisfied: certifi in c:\\users\\quin-\\appdata\\roaming\\python\\python37\\site-packages (from httpx->gradio) (2022.12.7)\n",
            "Requirement already satisfied: httpcore<0.18.0,>=0.15.0 in c:\\users\\quin-\\appdata\\roaming\\python\\python37\\site-packages (from httpx->gradio) (0.17.0)\n",
            "Requirement already satisfied: idna in c:\\users\\quin-\\appdata\\roaming\\python\\python37\\site-packages (from httpx->gradio) (3.4)\n",
            "Requirement already satisfied: sniffio in c:\\users\\quin-\\appdata\\roaming\\python\\python37\\site-packages (from httpx->gradio) (1.3.0)\n",
            "Requirement already satisfied: cycler>=0.10 in c:\\users\\quin-\\appdata\\roaming\\python\\python37\\site-packages (from matplotlib->gradio) (0.11.0)\n",
            "Requirement already satisfied: fonttools>=4.22.0 in c:\\users\\quin-\\appdata\\roaming\\python\\python37\\site-packages (from matplotlib->gradio) (4.38.0)\n",
            "Requirement already satisfied: kiwisolver>=1.0.1 in c:\\users\\quin-\\appdata\\roaming\\python\\python37\\site-packages (from matplotlib->gradio) (1.4.4)\n",
            "Requirement already satisfied: pyparsing>=2.2.1 in c:\\users\\quin-\\appdata\\roaming\\python\\python37\\site-packages (from matplotlib->gradio) (3.0.9)\n",
            "Requirement already satisfied: urllib3<1.27,>=1.21.1 in c:\\users\\quin-\\appdata\\roaming\\python\\python37\\site-packages (from requests->gradio) (1.26.15)\n",
            "Requirement already satisfied: click>=7.0 in c:\\users\\quin-\\appdata\\roaming\\python\\python37\\site-packages (from uvicorn->gradio) (8.1.3)\n",
            "Requirement already satisfied: h11>=0.8 in c:\\users\\quin-\\appdata\\roaming\\python\\python37\\site-packages (from uvicorn->gradio) (0.14.0)\n",
            "Requirement already satisfied: colorama in c:\\users\\quin-\\appdata\\roaming\\python\\python37\\site-packages (from click>=7.0->uvicorn->gradio) (0.4.6)\n",
            "Requirement already satisfied: anyio<5.0,>=3.0 in c:\\users\\quin-\\appdata\\roaming\\python\\python37\\site-packages (from httpcore<0.18.0,>=0.15.0->httpx->gradio) (3.6.2)\n",
            "Requirement already satisfied: importlib-resources>=1.4.0 in c:\\users\\quin-\\appdata\\roaming\\python\\python37\\site-packages (from jsonschema>=3.0->altair>=4.2.0->gradio) (5.12.0)\n",
            "Requirement already satisfied: pkgutil-resolve-name>=1.3.10 in c:\\users\\quin-\\appdata\\roaming\\python\\python37\\site-packages (from jsonschema>=3.0->altair>=4.2.0->gradio) (1.3.10)\n",
            "Requirement already satisfied: pyrsistent!=0.17.0,!=0.17.1,!=0.17.2,>=0.14.0 in c:\\users\\quin-\\appdata\\roaming\\python\\python37\\site-packages (from jsonschema>=3.0->altair>=4.2.0->gradio) (0.19.3)\n",
            "Requirement already satisfied: uc-micro-py in c:\\users\\quin-\\appdata\\roaming\\python\\python37\\site-packages (from linkify-it-py<3,>=1->markdown-it-py[linkify]>=2.0.0->gradio) (1.0.2)\n",
            "Requirement already satisfied: six>=1.5 in c:\\users\\quin-\\appdata\\roaming\\python\\python37\\site-packages (from python-dateutil>=2.7.3->pandas->gradio) (1.16.0)\n",
            "Requirement already satisfied: zipp>=0.5 in c:\\users\\quin-\\appdata\\roaming\\python\\python37\\site-packages (from importlib-metadata->huggingface-hub>=0.13.0->gradio) (3.15.0)\n",
            "Defaulting to user installation because normal site-packages is not writeable\n",
            "Requirement already satisfied: tqdm in c:\\users\\quin-\\appdata\\roaming\\python\\python37\\site-packages (4.65.0)\n",
            "Requirement already satisfied: colorama in c:\\users\\quin-\\appdata\\roaming\\python\\python37\\site-packages (from tqdm) (0.4.6)\n",
            "Defaulting to user installation because normal site-packages is not writeable\n",
            "Requirement already satisfied: torch in c:\\users\\quin-\\appdata\\roaming\\python\\python37\\site-packages (1.13.1)\n",
            "Requirement already satisfied: typing-extensions in c:\\users\\quin-\\appdata\\roaming\\python\\python37\\site-packages (from torch) (4.5.0)\n",
            "Defaulting to user installation because normal site-packages is not writeable\n",
            "Requirement already satisfied: tensorflow in c:\\users\\quin-\\appdata\\roaming\\python\\python37\\site-packages (2.11.0)\n",
            "Requirement already satisfied: tensorflow-intel==2.11.0 in c:\\users\\quin-\\appdata\\roaming\\python\\python37\\site-packages (from tensorflow) (2.11.0)\n",
            "Requirement already satisfied: absl-py>=1.0.0 in c:\\users\\quin-\\appdata\\roaming\\python\\python37\\site-packages (from tensorflow-intel==2.11.0->tensorflow) (1.4.0)\n",
            "Requirement already satisfied: astunparse>=1.6.0 in c:\\users\\quin-\\appdata\\roaming\\python\\python37\\site-packages (from tensorflow-intel==2.11.0->tensorflow) (1.6.3)\n",
            "Requirement already satisfied: flatbuffers>=2.0 in c:\\users\\quin-\\appdata\\roaming\\python\\python37\\site-packages (from tensorflow-intel==2.11.0->tensorflow) (23.3.3)\n",
            "Requirement already satisfied: gast<=0.4.0,>=0.2.1 in c:\\users\\quin-\\appdata\\roaming\\python\\python37\\site-packages (from tensorflow-intel==2.11.0->tensorflow) (0.4.0)\n",
            "Requirement already satisfied: google-pasta>=0.1.1 in c:\\users\\quin-\\appdata\\roaming\\python\\python37\\site-packages (from tensorflow-intel==2.11.0->tensorflow) (0.2.0)\n",
            "Requirement already satisfied: h5py>=2.9.0 in c:\\users\\quin-\\appdata\\roaming\\python\\python37\\site-packages (from tensorflow-intel==2.11.0->tensorflow) (3.8.0)\n",
            "Requirement already satisfied: libclang>=13.0.0 in c:\\users\\quin-\\appdata\\roaming\\python\\python37\\site-packages (from tensorflow-intel==2.11.0->tensorflow) (16.0.0)\n",
            "Requirement already satisfied: numpy>=1.20 in c:\\users\\quin-\\appdata\\roaming\\python\\python37\\site-packages (from tensorflow-intel==2.11.0->tensorflow) (1.21.6)\n",
            "Requirement already satisfied: opt-einsum>=2.3.2 in c:\\users\\quin-\\appdata\\roaming\\python\\python37\\site-packages (from tensorflow-intel==2.11.0->tensorflow) (3.3.0)\n",
            "Requirement already satisfied: packaging in c:\\users\\quin-\\appdata\\roaming\\python\\python37\\site-packages (from tensorflow-intel==2.11.0->tensorflow) (23.0)\n",
            "Requirement already satisfied: protobuf<3.20,>=3.9.2 in c:\\users\\quin-\\appdata\\roaming\\python\\python37\\site-packages (from tensorflow-intel==2.11.0->tensorflow) (3.19.6)\n",
            "Requirement already satisfied: setuptools in c:\\program files (x86)\\microsoft visual studio\\shared\\python37_64\\lib\\site-packages (from tensorflow-intel==2.11.0->tensorflow) (47.1.0)\n",
            "Requirement already satisfied: six>=1.12.0 in c:\\users\\quin-\\appdata\\roaming\\python\\python37\\site-packages (from tensorflow-intel==2.11.0->tensorflow) (1.16.0)\n",
            "Requirement already satisfied: termcolor>=1.1.0 in c:\\users\\quin-\\appdata\\roaming\\python\\python37\\site-packages (from tensorflow-intel==2.11.0->tensorflow) (2.3.0)\n",
            "Requirement already satisfied: typing-extensions>=3.6.6 in c:\\users\\quin-\\appdata\\roaming\\python\\python37\\site-packages (from tensorflow-intel==2.11.0->tensorflow) (4.5.0)\n",
            "Requirement already satisfied: wrapt>=1.11.0 in c:\\users\\quin-\\appdata\\roaming\\python\\python37\\site-packages (from tensorflow-intel==2.11.0->tensorflow) (1.15.0)\n",
            "Requirement already satisfied: grpcio<2.0,>=1.24.3 in c:\\users\\quin-\\appdata\\roaming\\python\\python37\\site-packages (from tensorflow-intel==2.11.0->tensorflow) (1.54.0)\n",
            "Requirement already satisfied: tensorboard<2.12,>=2.11 in c:\\users\\quin-\\appdata\\roaming\\python\\python37\\site-packages (from tensorflow-intel==2.11.0->tensorflow) (2.11.2)\n",
            "Requirement already satisfied: tensorflow-estimator<2.12,>=2.11.0 in c:\\users\\quin-\\appdata\\roaming\\python\\python37\\site-packages (from tensorflow-intel==2.11.0->tensorflow) (2.11.0)\n",
            "Requirement already satisfied: keras<2.12,>=2.11.0 in c:\\users\\quin-\\appdata\\roaming\\python\\python37\\site-packages (from tensorflow-intel==2.11.0->tensorflow) (2.11.0)\n",
            "Requirement already satisfied: tensorflow-io-gcs-filesystem>=0.23.1 in c:\\users\\quin-\\appdata\\roaming\\python\\python37\\site-packages (from tensorflow-intel==2.11.0->tensorflow) (0.31.0)\n",
            "Requirement already satisfied: wheel<1.0,>=0.23.0 in c:\\users\\quin-\\appdata\\roaming\\python\\python37\\site-packages (from astunparse>=1.6.0->tensorflow-intel==2.11.0->tensorflow) (0.40.0)\n",
            "Requirement already satisfied: google-auth<3,>=1.6.3 in c:\\users\\quin-\\appdata\\roaming\\python\\python37\\site-packages (from tensorboard<2.12,>=2.11->tensorflow-intel==2.11.0->tensorflow) (2.17.3)\n",
            "Requirement already satisfied: google-auth-oauthlib<0.5,>=0.4.1 in c:\\users\\quin-\\appdata\\roaming\\python\\python37\\site-packages (from tensorboard<2.12,>=2.11->tensorflow-intel==2.11.0->tensorflow) (0.4.6)\n",
            "Requirement already satisfied: markdown>=2.6.8 in c:\\users\\quin-\\appdata\\roaming\\python\\python37\\site-packages (from tensorboard<2.12,>=2.11->tensorflow-intel==2.11.0->tensorflow) (3.4.3)\n",
            "Requirement already satisfied: requests<3,>=2.21.0 in c:\\users\\quin-\\appdata\\roaming\\python\\python37\\site-packages (from tensorboard<2.12,>=2.11->tensorflow-intel==2.11.0->tensorflow) (2.29.0)\n",
            "Requirement already satisfied: tensorboard-data-server<0.7.0,>=0.6.0 in c:\\users\\quin-\\appdata\\roaming\\python\\python37\\site-packages (from tensorboard<2.12,>=2.11->tensorflow-intel==2.11.0->tensorflow) (0.6.1)\n",
            "Requirement already satisfied: tensorboard-plugin-wit>=1.6.0 in c:\\users\\quin-\\appdata\\roaming\\python\\python37\\site-packages (from tensorboard<2.12,>=2.11->tensorflow-intel==2.11.0->tensorflow) (1.8.1)\n",
            "Requirement already satisfied: werkzeug>=1.0.1 in c:\\users\\quin-\\appdata\\roaming\\python\\python37\\site-packages (from tensorboard<2.12,>=2.11->tensorflow-intel==2.11.0->tensorflow) (2.2.3)\n",
            "Requirement already satisfied: cachetools<6.0,>=2.0.0 in c:\\users\\quin-\\appdata\\roaming\\python\\python37\\site-packages (from google-auth<3,>=1.6.3->tensorboard<2.12,>=2.11->tensorflow-intel==2.11.0->tensorflow) (5.3.0)\n",
            "Requirement already satisfied: pyasn1-modules>=0.2.1 in c:\\users\\quin-\\appdata\\roaming\\python\\python37\\site-packages (from google-auth<3,>=1.6.3->tensorboard<2.12,>=2.11->tensorflow-intel==2.11.0->tensorflow) (0.3.0)\n",
            "Requirement already satisfied: rsa<5,>=3.1.4 in c:\\users\\quin-\\appdata\\roaming\\python\\python37\\site-packages (from google-auth<3,>=1.6.3->tensorboard<2.12,>=2.11->tensorflow-intel==2.11.0->tensorflow) (4.9)\n",
            "Requirement already satisfied: requests-oauthlib>=0.7.0 in c:\\users\\quin-\\appdata\\roaming\\python\\python37\\site-packages (from google-auth-oauthlib<0.5,>=0.4.1->tensorboard<2.12,>=2.11->tensorflow-intel==2.11.0->tensorflow) (1.3.1)\n",
            "Requirement already satisfied: importlib-metadata>=4.4 in c:\\users\\quin-\\appdata\\roaming\\python\\python37\\site-packages (from markdown>=2.6.8->tensorboard<2.12,>=2.11->tensorflow-intel==2.11.0->tensorflow) (6.6.0)\n",
            "Requirement already satisfied: charset-normalizer<4,>=2 in c:\\users\\quin-\\appdata\\roaming\\python\\python37\\site-packages (from requests<3,>=2.21.0->tensorboard<2.12,>=2.11->tensorflow-intel==2.11.0->tensorflow) (3.1.0)\n",
            "Requirement already satisfied: idna<4,>=2.5 in c:\\users\\quin-\\appdata\\roaming\\python\\python37\\site-packages (from requests<3,>=2.21.0->tensorboard<2.12,>=2.11->tensorflow-intel==2.11.0->tensorflow) (3.4)\n",
            "Requirement already satisfied: urllib3<1.27,>=1.21.1 in c:\\users\\quin-\\appdata\\roaming\\python\\python37\\site-packages (from requests<3,>=2.21.0->tensorboard<2.12,>=2.11->tensorflow-intel==2.11.0->tensorflow) (1.26.15)\n",
            "Requirement already satisfied: certifi>=2017.4.17 in c:\\users\\quin-\\appdata\\roaming\\python\\python37\\site-packages (from requests<3,>=2.21.0->tensorboard<2.12,>=2.11->tensorflow-intel==2.11.0->tensorflow) (2022.12.7)\n",
            "Requirement already satisfied: MarkupSafe>=2.1.1 in c:\\users\\quin-\\appdata\\roaming\\python\\python37\\site-packages (from werkzeug>=1.0.1->tensorboard<2.12,>=2.11->tensorflow-intel==2.11.0->tensorflow) (2.1.2)\n",
            "Requirement already satisfied: zipp>=0.5 in c:\\users\\quin-\\appdata\\roaming\\python\\python37\\site-packages (from importlib-metadata>=4.4->markdown>=2.6.8->tensorboard<2.12,>=2.11->tensorflow-intel==2.11.0->tensorflow) (3.15.0)\n",
            "Requirement already satisfied: pyasn1<0.6.0,>=0.4.6 in c:\\users\\quin-\\appdata\\roaming\\python\\python37\\site-packages (from pyasn1-modules>=0.2.1->google-auth<3,>=1.6.3->tensorboard<2.12,>=2.11->tensorflow-intel==2.11.0->tensorflow) (0.5.0)\n",
            "Requirement already satisfied: oauthlib>=3.0.0 in c:\\users\\quin-\\appdata\\roaming\\python\\python37\\site-packages (from requests-oauthlib>=0.7.0->google-auth-oauthlib<0.5,>=0.4.1->tensorboard<2.12,>=2.11->tensorflow-intel==2.11.0->tensorflow) (3.2.2)\n",
            "Defaulting to user installation because normal site-packages is not writeable\n",
            "Requirement already satisfied: keras in c:\\users\\quin-\\appdata\\roaming\\python\\python37\\site-packages (2.11.0)\n"
          ]
        }
      ],
      "source": [
        "!py -m pip install gradio\n",
        "!py -m pip install tqdm\n",
        "!py -m pip install torch\n",
        "!py -m pip install tensorflow\n",
        "!py -m pip install keras"
      ]
    },
    {
      "cell_type": "code",
      "execution_count": 2,
      "metadata": {
        "colab": {
          "base_uri": "https://localhost:8080/",
          "height": 339
        },
        "id": "_qSCRG4q5Zdz",
        "outputId": "f56f9a86-5f52-4779-b41f-51658f007ab5"
      },
      "outputs": [
        {
          "name": "stderr",
          "output_type": "stream",
          "text": [
            "C:\\Users\\quin-\\AppData\\Roaming\\Python\\Python37\\site-packages\\tqdm\\auto.py:21: TqdmWarning: IProgress not found. Please update jupyter and ipywidgets. See https://ipywidgets.readthedocs.io/en/stable/user_install.html\n",
            "  from .autonotebook import tqdm as notebook_tqdm\n"
          ]
        },
        {
          "ename": "ModuleNotFoundError",
          "evalue": "No module named 'source'",
          "output_type": "error",
          "traceback": [
            "\u001b[1;31m---------------------------------------------------------------------------\u001b[0m",
            "\u001b[1;31mModuleNotFoundError\u001b[0m                       Traceback (most recent call last)",
            "\u001b[1;32m~\\AppData\\Local\\Temp\\ipykernel_17920\\2420815067.py\u001b[0m in \u001b[0;36m<module>\u001b[1;34m\u001b[0m\n\u001b[0;32m     11\u001b[0m \u001b[1;32mimport\u001b[0m \u001b[0mh5py\u001b[0m\u001b[1;33m\u001b[0m\u001b[1;33m\u001b[0m\u001b[0m\n\u001b[0;32m     12\u001b[0m \u001b[1;32mimport\u001b[0m \u001b[0mscipy\u001b[0m\u001b[1;33m.\u001b[0m\u001b[0msignal\u001b[0m  \u001b[1;32mas\u001b[0m \u001b[0msgn\u001b[0m\u001b[1;33m\u001b[0m\u001b[1;33m\u001b[0m\u001b[0m\n\u001b[1;32m---> 13\u001b[1;33m \u001b[1;32mfrom\u001b[0m \u001b[0msource\u001b[0m \u001b[1;32mimport\u001b[0m \u001b[0mengines\u001b[0m\u001b[1;33m\u001b[0m\u001b[1;33m\u001b[0m\u001b[0m\n\u001b[0m",
            "\u001b[1;31mModuleNotFoundError\u001b[0m: No module named 'source'"
          ]
        }
      ],
      "source": [
        "import gradio as gr\n",
        "import pandas as pd\n",
        "import numpy as np\n",
        "import torch\n",
        "import torch.nn as nn, torch.optim as optim\n",
        "#import torch.nn.functional as F\n",
        "#import torch.nn.utils.prune as prune\n",
        "from tqdm import tqdm\n",
        "from tensorflow.keras.models import load_model\n",
        "from tensorflow.keras.optimizers import Adam\n",
        "import h5py\n",
        "import scipy.signal  as sgn\n",
        "from source import engines \n"
      ]
    },
    {
      "cell_type": "code",
      "execution_count": 3,
      "metadata": {
        "colab": {
          "base_uri": "https://localhost:8080/"
        },
        "id": "3qUApW_LWvtx",
        "outputId": "899aef95-3e94-43f8-9a2a-97d76673fe6b"
      },
      "outputs": [
        {
          "name": "stdout",
          "output_type": "stream",
          "text": [
            "Mounted at /content/drive/\n"
          ]
        }
      ],
      "source": [
        "from google.colab import drive\n",
        "drive.mount('/content/drive/')"
      ]
    },
    {
      "cell_type": "code",
      "execution_count": 13,
      "metadata": {
        "colab": {
          "base_uri": "https://localhost:8080/"
        },
        "id": "ybogX4736HuB",
        "outputId": "b0f78051-2e0f-4d9b-e9f7-2f3d14c8c5d2"
      },
      "outputs": [
        {
          "name": "stderr",
          "output_type": "stream",
          "text": [
            "\"ls\" no se reconoce como un comando interno o externo,\n",
            "programa o archivo por lotes ejecutable.\n"
          ]
        }
      ],
      "source": [
        "!ls"
      ]
    },
    {
      "cell_type": "code",
      "execution_count": 15,
      "metadata": {
        "id": "hI4tzEZLA-50"
      },
      "outputs": [],
      "source": [
        "pathModels = \"./Modelos\""
      ]
    },
    {
      "attachments": {},
      "cell_type": "markdown",
      "metadata": {
        "id": "WRDG2IG88Bth"
      },
      "source": [
        "# Predicts"
      ]
    },
    {
      "cell_type": "code",
      "execution_count": 52,
      "metadata": {},
      "outputs": [],
      "source": [
        "def predict(\n",
        "    train_loaders, \n",
        "    model, \n",
        "    config,\n",
        "    training_verbose = True, \n",
        "):\n",
        "    model = torch.load(f\"{pathModels}/best.ptl\", map_location=torch.device('cpu'))\n",
        "    #model = nn.DataParallel(model, device_ids = config[\"device_ids\"])\n",
        "    \n",
        "    with torch.no_grad():\n",
        "        model.eval()\n",
        "        running_labels, running_preds = [], []\n",
        "        for ecgs, labels in tqdm(train_loaders[\"pred\"], disable = not training_verbose):  \n",
        "            ecgs, labels = ecgs.cpu(), labels.cpu()\n",
        "            logits = model(ecgs)\n",
        "\n",
        "            #labels son las etiquetas reales y preds las que ha predicho el modelo\n",
        "            labels, preds = list(labels.data.cpu().numpy()), list(torch.max(logits, 1)[1].detach().cpu().numpy()) if not config[\"is_multilabel\"] else list(torch.sigmoid(logits).detach().cpu().numpy())\n",
        "            running_labels.extend(labels), running_preds.extend(preds)\n",
        "\n",
        "    if config[\"is_multilabel\"]:\n",
        "        running_labels, running_preds = np.array(running_labels), np.array(running_preds)\n",
        "        #optimal_thresholds = thresholds_search(running_labels, running_preds)\n",
        "        optimal_thresholds = pd.read_csv(\"./thresholds/CPSC-2018/optimal_thresholds_best.csv\")\n",
        "        running_preds = np.stack([\n",
        "            np.where(running_preds[:, cls] >= optimal_thresholds[cls], 1, 0) for cls in range(running_preds.shape[1])\n",
        "        ]).transpose()\n",
        "    else:   \n",
        "        #########################PRUEBA########################\n",
        "        running_labels, running_preds = np.array(running_labels), np.array(running_preds)\n",
        "        #Te quedas con los umbrales que tienen un mejor f1_score\n",
        "        running_labels=np.reshape(running_labels, (len(running_labels),-1))\n",
        "        running_preds=np.reshape(running_preds, (len(running_preds),-1))\n",
        "        #optimal_thresholds = thresholds_search(running_labels,running_preds)\n",
        "        optimal_thresholds = pd.read_csv()\n",
        "        running_preds = np.stack([\n",
        "            np.where(running_preds[:, cls] >= optimal_thresholds[cls], 1, 0) for cls in range(running_preds.shape[1])\n",
        "        ]).transpose()\n",
        "        ########################################################\n",
        "\n",
        "    return running_preds\n"
      ]
    },
    {
      "cell_type": "code",
      "execution_count": 53,
      "metadata": {},
      "outputs": [],
      "source": [
        "def predict_LightX3ECG(ecg, multilabel = True,num_gpus = 0):\n",
        "    config = {\n",
        "    \"ecg_leads\":[\n",
        "        0, 1, \n",
        "        6, \n",
        "    ], \n",
        "    \"ecg_length\":5000, \n",
        "    \"is_multilabel\":multilabel, \n",
        "    \"device_ids\":list(range(num_gpus)), \n",
        "    }\n",
        "\n",
        "    train_loaders = {\n",
        "        \"pred\":torch.utils.data.DataLoader(\n",
        "            ECGDataset(\n",
        "                df_path = f\"{configVars.pathCasos}{args.dataset}/pred.csv\", data_path = f\"{configVars.pathCasos}{args.dataset}/CasosNumpy\", \n",
        "                config = config, \n",
        "                augment = False, \n",
        "            ), \n",
        "            num_workers = 8, batch_size = 64, \n",
        "            shuffle = False\n",
        "        )\n",
        "        }\n",
        "\n",
        "    model = LightX3ECG(\n",
        "        num_classes = args.num_classes, \n",
        "        )\n",
        "\n",
        "\n",
        "    return predict(\n",
        "            train_loaders, \n",
        "            model, \n",
        "            config,\n",
        "            save_ckp_dir = save_ckp_dir, \n",
        "            training_verbose = True, \n",
        "        )"
      ]
    },
    {
      "cell_type": "code",
      "execution_count": 21,
      "metadata": {
        "id": "fFeAQrJb7qpN"
      },
      "outputs": [],
      "source": [
        "def predict_CPSC_2018(ecg):\n",
        "  #model = torch.load(f\"{pathModels}/CPSC-2018/best.ptl\", map_location = \"cuda\") # carga el modelo en una gpu\n",
        "  model = torch.load(f\"{pathModels}/CPSC-2018/best.ptl\", map_location=torch.device('cpu')) #carga el modelo en la cpu\n",
        "  # cosas para el paralelismo\n",
        "  #model = nn.DataParallel(model, device_ids = config[\"device_ids\"])\n",
        "  enfermedades = ['Normal','AF','I_AVB','LBBB','RBBB','PAC','PVC','STD','STE']\n",
        "  with torch.no_grad():\n",
        "        model.eval()\n",
        "        running_labels, running_preds = [], []\n",
        "        for ecgs, labels in tqdm(train_loaders[\"pred\"], disable = not training_verbose):  \n",
        "            ecgs, labels = ecgs.cuda(), labels.cuda()\n",
        "            logits = model(ecgs)\n",
        "\n",
        "            #labels son las etiquetas reales y preds las que ha predicho el modelo\n",
        "            #No tiene sentido hacer unos tresholds sin tener las clasificaciones correctas de las enfermedades, seguramente eliminar running_labels y labels\n",
        "            labels, preds = list(labels.data.cpu().numpy()), list(torch.sigmoid(logits).detach().cpu().numpy()) if not config[\"is_multilabel\"] else list(torch.sigmoid(logits).detach().cpu().numpy())\n",
        "            running_labels.extend(labels), running_preds.extend(preds)\n",
        "\n",
        "  running_labels, running_preds = np.array(running_labels), np.array(running_preds)\n",
        "  #Te quedas con los umbrales que tienen un mejor f1_score\n",
        "  print(f\"El reshapeo del array{running_labels.shape}\")\n",
        "  print(f\"El reshapeo del array{running_preds.shape}\")\n",
        "  optimal_thresholds = thresholds_search(running_labels, running_preds)\n",
        "  running_probs = running_preds\n",
        "  #No tiene sentido hacer unos tresholds sin tener las clasificaciones correctas de las enfermedades\n",
        "  running_preds = np.stack([\n",
        "      np.where(running_preds[:, cls] >= optimal_thresholds[cls], 1, 0) for cls in range(running_preds.shape[1])\n",
        "  ]).transpose()\n",
        "  \n",
        "\n",
        "  result = ecg\n",
        "  return result "
      ]
    },
    {
      "cell_type": "code",
      "execution_count": 7,
      "metadata": {
        "id": "oCNlCbo_70u6"
      },
      "outputs": [],
      "source": [
        "def predict_Chapman(ecg):\n",
        "  model = torch.load(f\"{pathModels}/Chapman/best.ptl\", map_location = \"cuda\")\n",
        "  # cosas para el paralelismo \n",
        "  #model = nn.DataParallel(model, device_ids = config[\"device_ids\"])\n",
        "  enfermedades = ['AFIB','GSVT','SB','SR']\n",
        "  with torch.no_grad():\n",
        "      model.eval()\n",
        "      running_labels, running_preds = [], []\n",
        "      for ecgs, labels in tqdm(train_loaders[\"pred\"], disable = not training_verbose):  \n",
        "          ecgs, labels = ecgs.cuda(), labels.cuda()\n",
        "          logits = model(ecgs)\n",
        "\n",
        "          #labels son las etiquetas reales y preds las que ha predicho el modelo\n",
        "          #No tiene sentido hacer unos tresholds sin tener las clasificaciones correctas de las enfermedades, seguramente eliminar running_labels y labels\n",
        "          labels, preds = list(labels.data.cpu().numpy()), list(torch.sigmoid(logits).detach().cpu().numpy()) if not config[\"is_multilabel\"] else list(torch.sigmoid(logits).detach().cpu().numpy())\n",
        "          running_labels.extend(labels), running_preds.extend(preds)\n",
        "            \n",
        "  running_preds,running_probs=getPredictedProbability(labels,preds)\n",
        "  print(f\"{np.shape(running_preds)}\\n\")\n",
        "  print(f\"{running_preds}\\n\")\n",
        "  #########################PRUEBA########################\n",
        "  running_labels, running_probs = np.array(running_labels), np.array(running_probs)\n",
        "  running_labels=np.reshape(running_labels, (len(running_labels),-1))\n",
        "  running_preds=np.reshape(running_preds, (len(running_preds),-1))\n",
        "  running_probs=np.reshape(running_probs, (len(running_probs),-1))\n",
        "  optimal_thresholds=[]\n",
        "  ######################################################## \n",
        "\n",
        "  result = ecg\n",
        "  return result"
      ]
    },
    {
      "cell_type": "code",
      "execution_count": 8,
      "metadata": {
        "id": "8iMKZgAd71GR"
      },
      "outputs": [],
      "source": [
        "def predict_antonior92(ecg):\n",
        "  model = load_model(f\"{pathModels}/antonior92/model.hdf5\", compile=False)\n",
        "  model.compile(loss='binary_crossentropy', optimizer=Adam())\n",
        "  result = model.predict(ecg,  verbose=1)\n",
        "  #result = model.predict(ecg)\n",
        "  enfermedades = np.array(['Normal','1dAVb', 'RBBB', 'LBBB', 'SB', 'AF', 'ST'])\n",
        " \n",
        "  selected = [True,False,True,False,False,True,False]\n",
        "  #result = enfermedades[selected]\n",
        "  return result.tolist()"
      ]
    },
    {
      "attachments": {},
      "cell_type": "markdown",
      "metadata": {
        "id": "qWGSdpkx8HKG"
      },
      "source": [
        "# Funciones auxiliares"
      ]
    },
    {
      "cell_type": "code",
      "execution_count": 8,
      "metadata": {},
      "outputs": [],
      "source": [
        "file = 'MUSE_20180111_155203_15000'\n",
        "data = np.load(f'{file}.npy')\n",
        "df = pd.DataFrame(data)\n",
        "df.to_csv(f'{file}.csv',index=False,header=False)"
      ]
    },
    {
      "cell_type": "code",
      "execution_count": 9,
      "metadata": {
        "id": "9pEdKVYf-eqE"
      },
      "outputs": [],
      "source": [
        "def remove_baseline_filter(sample_rate):\n",
        "    fc = 0.8  # [Hz], cutoff frequency\n",
        "    fst = 0.2  # [Hz], rejection band\n",
        "    rp = 0.5  # [dB], ripple in passband\n",
        "    rs = 40  # [dB], attenuation in rejection band\n",
        "    wn = fc / (sample_rate / 2)\n",
        "    wst = fst / (sample_rate / 2)\n",
        "\n",
        "    filterorder, aux = sgn.ellipord(wn, wst, rp, rs)\n",
        "    sos = sgn.iirfilter(filterorder, wn, rp, rs, btype='high', ftype='ellip', output='sos')\n",
        "\n",
        "    return sos"
      ]
    },
    {
      "cell_type": "code",
      "execution_count": 10,
      "metadata": {
        "id": "l-JQWfQw8oHb"
      },
      "outputs": [],
      "source": [
        "reduced_leads = ['DI', 'DII', 'V1', 'V2', 'V3', 'V4', 'V5', 'V6']\n",
        "all_leads = ['DI', 'DII', 'DIII', 'AVR', 'AVL', 'AVF', 'V1', 'V2', 'V3', 'V4', 'V5', 'V6']\n",
        "\n",
        "def preprocess_ecg(ecg, sample_rate, leads, new_freq=None, new_len=None, scale=1,\n",
        "                   use_all_leads=True, remove_baseline=False, powerline=None):\n",
        "    print(ecg.shape)\n",
        "    # Remove baseline\n",
        "    if remove_baseline:\n",
        "        sos = remove_baseline_filter(sample_rate)\n",
        "        ecg_nobaseline = sgn.sosfiltfilt(sos, ecg, padtype='constant', axis=-1)\n",
        "    else:\n",
        "        ecg_nobaseline = ecg\n",
        "    print(ecg_nobaseline.shape)\n",
        "\n",
        "    # Remove powerline\n",
        "    if powerline is None:\n",
        "        ecg_nopowerline = ecg_nobaseline\n",
        "    else:\n",
        "        # Design notch filter\n",
        "        q = 30.0  # Quality factor\n",
        "        b, a = sgn.iirnotch(powerline, q, fs=sample_rate)\n",
        "        ecg_nopowerline = sgn.filtfilt(b, a, ecg_nobaseline)\n",
        "    print(ecg_nopowerline.shape)\n",
        "\n",
        "    # Resample\n",
        "    if new_freq is not None:\n",
        "        print(\"none\")\n",
        "        ecg_resampled = sgn.resample_poly(ecg_nopowerline, up=new_freq, down=sample_rate, axis=-1)\n",
        "    else:\n",
        "        print(\"else\")\n",
        "        ecg_resampled = ecg_nopowerline\n",
        "        new_freq = sample_rate\n",
        "    n_leads, length = ecg_resampled.shape\n",
        "    print(ecg_resampled.shape)\n",
        "\n",
        "    # Rescale\n",
        "    ecg_rescaled = scale * ecg_resampled\n",
        "    print(ecg_rescaled.shape)\n",
        "\n",
        "    # Add leads if needed\n",
        "    target_leads = all_leads if use_all_leads else reduced_leads\n",
        "    n_leads_target = len(target_leads)\n",
        "    l2p = dict(zip(target_leads, range(n_leads_target)))\n",
        "    ecg_targetleads = np.zeros([n_leads_target, length])\n",
        "    print(l2p)\n",
        "    print(ecg_rescaled.shape)\n",
        "    print(ecg_targetleads.shape)\n",
        "    ecg_targetleads = ecg_rescaled\n",
        "    #for i, l in enumerate(leads):\n",
        "    #    if l in target_leads:\n",
        "    #        #ecg_targetleads[l2p[l], :] = ecg_rescaled[i, :]\n",
        "    #        ecg_targetleads[l2p[l], :] = ecg_rescaled[:]\n",
        "    if n_leads_target >= n_leads and use_all_leads:\n",
        "        ecg_targetleads[l2p['DIII'], :] = ecg_targetleads[l2p['DII'], :] - ecg_targetleads[l2p['DI'], :]\n",
        "        ecg_targetleads[l2p['AVR'], :] = -(ecg_targetleads[l2p['DI'], :] + ecg_targetleads[l2p['DII'], :]) / 2\n",
        "        ecg_targetleads[l2p['AVL'], :] = (ecg_targetleads[l2p['DI'], :] - ecg_targetleads[l2p['DIII'], :]) / 2\n",
        "        ecg_targetleads[l2p['AVF'], :] = (ecg_targetleads[l2p['DII'], :] + ecg_targetleads[l2p['DIII'], :]) / 2\n",
        "    \n",
        "    ###################################\n",
        "    #ecg_targetleads = ecg_rescaled\n",
        "    ###################################\n",
        "\n",
        "    # Reshape\n",
        "    if new_len is None or new_len == length:\n",
        "        ecg_reshaped = ecg_targetleads\n",
        "    elif new_len > length:\n",
        "        ecg_reshaped = np.zeros([n_leads_target, new_len])\n",
        "        pad = (new_len - length) // 2\n",
        "        ecg_reshaped[..., pad:length+pad] = ecg_targetleads\n",
        "    else:\n",
        "        extra = (length - new_len) // 2\n",
        "        ecg_reshaped = ecg_targetleads[:, extra:new_len + extra]\n",
        "\n",
        "    return ecg_reshaped, new_freq, target_leads"
      ]
    },
    {
      "attachments": {},
      "cell_type": "markdown",
      "metadata": {
        "id": "fu6L7rtvijFj"
      },
      "source": [
        "## generateH5"
      ]
    },
    {
      "cell_type": "code",
      "execution_count": 11,
      "metadata": {
        "id": "pdmaPd6G8MOw"
      },
      "outputs": [],
      "source": [
        "def generateH5(input_file,out_file,new_freq=None,new_len=None,scale=1,powerline=None,use_all_leads=True,remove_baseline=False,root_dir=None,fmt='wfdb'):\n",
        "    n = len(input_file)  # Get length\n",
        "    try:\n",
        "      h5f = h5py.File(out_file, 'r+')\n",
        "      h5f.clear()\n",
        "    except:\n",
        "      h5f = h5py.File(out_file, 'w')\n",
        "\n",
        "    ecg = input_file \n",
        "    sample_rate, leads = input_file.shape\n",
        "    ecg_preprocessed, new_rate, new_leads = preprocess_ecg(ecg, sample_rate, leads,\n",
        "                                                                      new_freq=new_freq,\n",
        "                                                                      new_len=new_len,\n",
        "                                                                      scale=scale,\n",
        "                                                                      powerline=powerline,\n",
        "                                                                      use_all_leads=use_all_leads,\n",
        "                                                                      remove_baseline=remove_baseline)\n",
        "    ecg_preprocessed = ecg.T\n",
        "    n_leads, n_samples = ecg_preprocessed.shape\n",
        "    x = h5f.create_dataset('tracings', (1, n_samples, n_leads), dtype='f8')\n",
        "    print(ecg_preprocessed.T)\n",
        "    x[0, :, :] = ecg_preprocessed.T\n",
        "\n",
        "    h5f.close()"
      ]
    },
    {
      "cell_type": "code",
      "execution_count": null,
      "metadata": {},
      "outputs": [],
      "source": [
        "engines.predict"
      ]
    },
    {
      "cell_type": "code",
      "execution_count": 45,
      "metadata": {
        "colab": {
          "base_uri": "https://localhost:8080/",
          "height": 693
        },
        "id": "9lyOnUWcZ9W_",
        "outputId": "c1eb3b91-4f1e-4f9c-f028-3c2792e856e6"
      },
      "outputs": [
        {
          "name": "stdout",
          "output_type": "stream",
          "text": [
            "[array([[  73.,  -31., -104., ...,  -64.,   33.,  -11.],\n",
            "       [  69.,  -32., -101., ...,  -64.,   32.,  -11.],\n",
            "       [  68.,  -34., -102., ...,  -64.,   31.,  -12.],\n",
            "       ...,\n",
            "       [   0.,    0.,    0., ...,    0.,    0.,    0.],\n",
            "       [   0.,    0.,    0., ...,    0.,    0.,    0.],\n",
            "       [   0.,    0.,    0., ...,    0.,    0.,    0.]])]\n",
            "torch.Size([1, 5500, 12])\n"
          ]
        },
        {
          "ename": "RuntimeError",
          "evalue": "expected scalar type Double but found Float",
          "output_type": "error",
          "traceback": [
            "\u001b[1;31m---------------------------------------------------------------------------\u001b[0m",
            "\u001b[1;31mRuntimeError\u001b[0m                              Traceback (most recent call last)",
            "\u001b[1;32m~\\AppData\\Local\\Temp\\ipykernel_6924\\2757709620.py\u001b[0m in \u001b[0;36m<module>\u001b[1;34m\u001b[0m\n\u001b[0;32m      7\u001b[0m \u001b[0mtensor_entrada\u001b[0m \u001b[1;33m=\u001b[0m \u001b[0mtorch\u001b[0m\u001b[1;33m.\u001b[0m\u001b[0mtensor\u001b[0m\u001b[1;33m(\u001b[0m\u001b[0minp\u001b[0m\u001b[1;33m,\u001b[0m\u001b[0mdtype\u001b[0m\u001b[1;33m=\u001b[0m\u001b[0mtorch\u001b[0m\u001b[1;33m.\u001b[0m\u001b[0mdouble\u001b[0m\u001b[1;33m)\u001b[0m\u001b[1;33m\u001b[0m\u001b[1;33m\u001b[0m\u001b[0m\n\u001b[0;32m      8\u001b[0m \u001b[0mprint\u001b[0m\u001b[1;33m(\u001b[0m\u001b[0mtensor_entrada\u001b[0m\u001b[1;33m.\u001b[0m\u001b[0mshape\u001b[0m\u001b[1;33m)\u001b[0m\u001b[1;33m\u001b[0m\u001b[1;33m\u001b[0m\u001b[0m\n\u001b[1;32m----> 9\u001b[1;33m \u001b[0mpred\u001b[0m \u001b[1;33m=\u001b[0m \u001b[0mmodel\u001b[0m\u001b[1;33m(\u001b[0m\u001b[0mtensor_entrada\u001b[0m\u001b[1;33m)\u001b[0m\u001b[1;33m\u001b[0m\u001b[1;33m\u001b[0m\u001b[0m\n\u001b[0m\u001b[0;32m     10\u001b[0m \u001b[0mpred\u001b[0m\u001b[1;33m\u001b[0m\u001b[1;33m\u001b[0m\u001b[0m\n",
            "\u001b[1;32m~\\AppData\\Roaming\\Python\\Python37\\site-packages\\torch\\nn\\modules\\module.py\u001b[0m in \u001b[0;36m_call_impl\u001b[1;34m(self, *input, **kwargs)\u001b[0m\n\u001b[0;32m   1192\u001b[0m         if not (self._backward_hooks or self._forward_hooks or self._forward_pre_hooks or _global_backward_hooks\n\u001b[0;32m   1193\u001b[0m                 or _global_forward_hooks or _global_forward_pre_hooks):\n\u001b[1;32m-> 1194\u001b[1;33m             \u001b[1;32mreturn\u001b[0m \u001b[0mforward_call\u001b[0m\u001b[1;33m(\u001b[0m\u001b[1;33m*\u001b[0m\u001b[0minput\u001b[0m\u001b[1;33m,\u001b[0m \u001b[1;33m**\u001b[0m\u001b[0mkwargs\u001b[0m\u001b[1;33m)\u001b[0m\u001b[1;33m\u001b[0m\u001b[1;33m\u001b[0m\u001b[0m\n\u001b[0m\u001b[0;32m   1195\u001b[0m         \u001b[1;31m# Do not call functions when jit is used\u001b[0m\u001b[1;33m\u001b[0m\u001b[1;33m\u001b[0m\u001b[1;33m\u001b[0m\u001b[0m\n\u001b[0;32m   1196\u001b[0m         \u001b[0mfull_backward_hooks\u001b[0m\u001b[1;33m,\u001b[0m \u001b[0mnon_full_backward_hooks\u001b[0m \u001b[1;33m=\u001b[0m \u001b[1;33m[\u001b[0m\u001b[1;33m]\u001b[0m\u001b[1;33m,\u001b[0m \u001b[1;33m[\u001b[0m\u001b[1;33m]\u001b[0m\u001b[1;33m\u001b[0m\u001b[1;33m\u001b[0m\u001b[0m\n",
            "\u001b[1;32me:\\automatic-ecg-diagnosis-private\\Interfaz\\nets\\nets.py\u001b[0m in \u001b[0;36mforward\u001b[1;34m(self, input, return_attention_scores)\u001b[0m\n\u001b[0;32m     40\u001b[0m     ):\n\u001b[0;32m     41\u001b[0m         \u001b[0mfeatures_0\u001b[0m \u001b[1;33m=\u001b[0m \u001b[0mself\u001b[0m\u001b[1;33m.\u001b[0m\u001b[0mbackbone_0\u001b[0m\u001b[1;33m(\u001b[0m\u001b[0minput\u001b[0m\u001b[1;33m[\u001b[0m\u001b[1;33m:\u001b[0m\u001b[1;33m,\u001b[0m \u001b[1;36m0\u001b[0m\u001b[1;33m,\u001b[0m \u001b[1;33m:\u001b[0m\u001b[1;33m]\u001b[0m\u001b[1;33m.\u001b[0m\u001b[0munsqueeze\u001b[0m\u001b[1;33m(\u001b[0m\u001b[1;36m1\u001b[0m\u001b[1;33m)\u001b[0m\u001b[1;33m)\u001b[0m\u001b[1;33m.\u001b[0m\u001b[0msqueeze\u001b[0m\u001b[1;33m(\u001b[0m\u001b[1;36m2\u001b[0m\u001b[1;33m)\u001b[0m\u001b[1;33m\u001b[0m\u001b[1;33m\u001b[0m\u001b[0m\n\u001b[1;32m---> 42\u001b[1;33m         \u001b[0mfeatures_1\u001b[0m \u001b[1;33m=\u001b[0m \u001b[0mself\u001b[0m\u001b[1;33m.\u001b[0m\u001b[0mbackbone_1\u001b[0m\u001b[1;33m(\u001b[0m\u001b[0minput\u001b[0m\u001b[1;33m[\u001b[0m\u001b[1;33m:\u001b[0m\u001b[1;33m,\u001b[0m \u001b[1;36m1\u001b[0m\u001b[1;33m,\u001b[0m \u001b[1;33m:\u001b[0m\u001b[1;33m]\u001b[0m\u001b[1;33m.\u001b[0m\u001b[0munsqueeze\u001b[0m\u001b[1;33m(\u001b[0m\u001b[1;36m1\u001b[0m\u001b[1;33m)\u001b[0m\u001b[1;33m)\u001b[0m\u001b[1;33m.\u001b[0m\u001b[0msqueeze\u001b[0m\u001b[1;33m(\u001b[0m\u001b[1;36m2\u001b[0m\u001b[1;33m)\u001b[0m\u001b[1;33m\u001b[0m\u001b[1;33m\u001b[0m\u001b[0m\n\u001b[0m\u001b[0;32m     43\u001b[0m         \u001b[0mfeatures_2\u001b[0m \u001b[1;33m=\u001b[0m \u001b[0mself\u001b[0m\u001b[1;33m.\u001b[0m\u001b[0mbackbone_2\u001b[0m\u001b[1;33m(\u001b[0m\u001b[0minput\u001b[0m\u001b[1;33m[\u001b[0m\u001b[1;33m:\u001b[0m\u001b[1;33m,\u001b[0m \u001b[1;36m2\u001b[0m\u001b[1;33m,\u001b[0m \u001b[1;33m:\u001b[0m\u001b[1;33m]\u001b[0m\u001b[1;33m.\u001b[0m\u001b[0munsqueeze\u001b[0m\u001b[1;33m(\u001b[0m\u001b[1;36m1\u001b[0m\u001b[1;33m)\u001b[0m\u001b[1;33m)\u001b[0m\u001b[1;33m.\u001b[0m\u001b[0msqueeze\u001b[0m\u001b[1;33m(\u001b[0m\u001b[1;36m2\u001b[0m\u001b[1;33m)\u001b[0m\u001b[1;33m\u001b[0m\u001b[1;33m\u001b[0m\u001b[0m\n\u001b[0;32m     44\u001b[0m         attention_scores = torch.sigmoid(\n",
            "\u001b[1;32m~\\AppData\\Roaming\\Python\\Python37\\site-packages\\torch\\nn\\modules\\module.py\u001b[0m in \u001b[0;36m_call_impl\u001b[1;34m(self, *input, **kwargs)\u001b[0m\n\u001b[0;32m   1192\u001b[0m         if not (self._backward_hooks or self._forward_hooks or self._forward_pre_hooks or _global_backward_hooks\n\u001b[0;32m   1193\u001b[0m                 or _global_forward_hooks or _global_forward_pre_hooks):\n\u001b[1;32m-> 1194\u001b[1;33m             \u001b[1;32mreturn\u001b[0m \u001b[0mforward_call\u001b[0m\u001b[1;33m(\u001b[0m\u001b[1;33m*\u001b[0m\u001b[0minput\u001b[0m\u001b[1;33m,\u001b[0m \u001b[1;33m**\u001b[0m\u001b[0mkwargs\u001b[0m\u001b[1;33m)\u001b[0m\u001b[1;33m\u001b[0m\u001b[1;33m\u001b[0m\u001b[0m\n\u001b[0m\u001b[0;32m   1195\u001b[0m         \u001b[1;31m# Do not call functions when jit is used\u001b[0m\u001b[1;33m\u001b[0m\u001b[1;33m\u001b[0m\u001b[1;33m\u001b[0m\u001b[0m\n\u001b[0;32m   1196\u001b[0m         \u001b[0mfull_backward_hooks\u001b[0m\u001b[1;33m,\u001b[0m \u001b[0mnon_full_backward_hooks\u001b[0m \u001b[1;33m=\u001b[0m \u001b[1;33m[\u001b[0m\u001b[1;33m]\u001b[0m\u001b[1;33m,\u001b[0m \u001b[1;33m[\u001b[0m\u001b[1;33m]\u001b[0m\u001b[1;33m\u001b[0m\u001b[1;33m\u001b[0m\u001b[0m\n",
            "\u001b[1;32me:\\automatic-ecg-diagnosis-private\\Interfaz\\nets\\backbones.py\u001b[0m in \u001b[0;36mforward\u001b[1;34m(self, input)\u001b[0m\n\u001b[0;32m     46\u001b[0m         \u001b[0minput\u001b[0m\u001b[1;33m,\u001b[0m\u001b[1;33m\u001b[0m\u001b[1;33m\u001b[0m\u001b[0m\n\u001b[0;32m     47\u001b[0m     ):\n\u001b[1;32m---> 48\u001b[1;33m         \u001b[0moutput\u001b[0m \u001b[1;33m=\u001b[0m \u001b[0mself\u001b[0m\u001b[1;33m.\u001b[0m\u001b[0mstem\u001b[0m\u001b[1;33m(\u001b[0m\u001b[0minput\u001b[0m\u001b[1;33m)\u001b[0m\u001b[1;33m\u001b[0m\u001b[1;33m\u001b[0m\u001b[0m\n\u001b[0m\u001b[0;32m     49\u001b[0m         \u001b[0moutput\u001b[0m \u001b[1;33m=\u001b[0m \u001b[0mself\u001b[0m\u001b[1;33m.\u001b[0m\u001b[0mstage_0\u001b[0m\u001b[1;33m(\u001b[0m\u001b[0moutput\u001b[0m\u001b[1;33m)\u001b[0m\u001b[1;33m\u001b[0m\u001b[1;33m\u001b[0m\u001b[0m\n\u001b[0;32m     50\u001b[0m \u001b[1;33m\u001b[0m\u001b[0m\n",
            "\u001b[1;32m~\\AppData\\Roaming\\Python\\Python37\\site-packages\\torch\\nn\\modules\\module.py\u001b[0m in \u001b[0;36m_call_impl\u001b[1;34m(self, *input, **kwargs)\u001b[0m\n\u001b[0;32m   1192\u001b[0m         if not (self._backward_hooks or self._forward_hooks or self._forward_pre_hooks or _global_backward_hooks\n\u001b[0;32m   1193\u001b[0m                 or _global_forward_hooks or _global_forward_pre_hooks):\n\u001b[1;32m-> 1194\u001b[1;33m             \u001b[1;32mreturn\u001b[0m \u001b[0mforward_call\u001b[0m\u001b[1;33m(\u001b[0m\u001b[1;33m*\u001b[0m\u001b[0minput\u001b[0m\u001b[1;33m,\u001b[0m \u001b[1;33m**\u001b[0m\u001b[0mkwargs\u001b[0m\u001b[1;33m)\u001b[0m\u001b[1;33m\u001b[0m\u001b[1;33m\u001b[0m\u001b[0m\n\u001b[0m\u001b[0;32m   1195\u001b[0m         \u001b[1;31m# Do not call functions when jit is used\u001b[0m\u001b[1;33m\u001b[0m\u001b[1;33m\u001b[0m\u001b[1;33m\u001b[0m\u001b[0m\n\u001b[0;32m   1196\u001b[0m         \u001b[0mfull_backward_hooks\u001b[0m\u001b[1;33m,\u001b[0m \u001b[0mnon_full_backward_hooks\u001b[0m \u001b[1;33m=\u001b[0m \u001b[1;33m[\u001b[0m\u001b[1;33m]\u001b[0m\u001b[1;33m,\u001b[0m \u001b[1;33m[\u001b[0m\u001b[1;33m]\u001b[0m\u001b[1;33m\u001b[0m\u001b[1;33m\u001b[0m\u001b[0m\n",
            "\u001b[1;32m~\\AppData\\Roaming\\Python\\Python37\\site-packages\\torch\\nn\\modules\\container.py\u001b[0m in \u001b[0;36mforward\u001b[1;34m(self, input)\u001b[0m\n\u001b[0;32m    202\u001b[0m     \u001b[1;32mdef\u001b[0m \u001b[0mforward\u001b[0m\u001b[1;33m(\u001b[0m\u001b[0mself\u001b[0m\u001b[1;33m,\u001b[0m \u001b[0minput\u001b[0m\u001b[1;33m)\u001b[0m\u001b[1;33m:\u001b[0m\u001b[1;33m\u001b[0m\u001b[1;33m\u001b[0m\u001b[0m\n\u001b[0;32m    203\u001b[0m         \u001b[1;32mfor\u001b[0m \u001b[0mmodule\u001b[0m \u001b[1;32min\u001b[0m \u001b[0mself\u001b[0m\u001b[1;33m:\u001b[0m\u001b[1;33m\u001b[0m\u001b[1;33m\u001b[0m\u001b[0m\n\u001b[1;32m--> 204\u001b[1;33m             \u001b[0minput\u001b[0m \u001b[1;33m=\u001b[0m \u001b[0mmodule\u001b[0m\u001b[1;33m(\u001b[0m\u001b[0minput\u001b[0m\u001b[1;33m)\u001b[0m\u001b[1;33m\u001b[0m\u001b[1;33m\u001b[0m\u001b[0m\n\u001b[0m\u001b[0;32m    205\u001b[0m         \u001b[1;32mreturn\u001b[0m \u001b[0minput\u001b[0m\u001b[1;33m\u001b[0m\u001b[1;33m\u001b[0m\u001b[0m\n\u001b[0;32m    206\u001b[0m \u001b[1;33m\u001b[0m\u001b[0m\n",
            "\u001b[1;32m~\\AppData\\Roaming\\Python\\Python37\\site-packages\\torch\\nn\\modules\\module.py\u001b[0m in \u001b[0;36m_call_impl\u001b[1;34m(self, *input, **kwargs)\u001b[0m\n\u001b[0;32m   1192\u001b[0m         if not (self._backward_hooks or self._forward_hooks or self._forward_pre_hooks or _global_backward_hooks\n\u001b[0;32m   1193\u001b[0m                 or _global_forward_hooks or _global_forward_pre_hooks):\n\u001b[1;32m-> 1194\u001b[1;33m             \u001b[1;32mreturn\u001b[0m \u001b[0mforward_call\u001b[0m\u001b[1;33m(\u001b[0m\u001b[1;33m*\u001b[0m\u001b[0minput\u001b[0m\u001b[1;33m,\u001b[0m \u001b[1;33m**\u001b[0m\u001b[0mkwargs\u001b[0m\u001b[1;33m)\u001b[0m\u001b[1;33m\u001b[0m\u001b[1;33m\u001b[0m\u001b[0m\n\u001b[0m\u001b[0;32m   1195\u001b[0m         \u001b[1;31m# Do not call functions when jit is used\u001b[0m\u001b[1;33m\u001b[0m\u001b[1;33m\u001b[0m\u001b[1;33m\u001b[0m\u001b[0m\n\u001b[0;32m   1196\u001b[0m         \u001b[0mfull_backward_hooks\u001b[0m\u001b[1;33m,\u001b[0m \u001b[0mnon_full_backward_hooks\u001b[0m \u001b[1;33m=\u001b[0m \u001b[1;33m[\u001b[0m\u001b[1;33m]\u001b[0m\u001b[1;33m,\u001b[0m \u001b[1;33m[\u001b[0m\u001b[1;33m]\u001b[0m\u001b[1;33m\u001b[0m\u001b[1;33m\u001b[0m\u001b[0m\n",
            "\u001b[1;32m~\\AppData\\Roaming\\Python\\Python37\\site-packages\\torch\\nn\\modules\\conv.py\u001b[0m in \u001b[0;36mforward\u001b[1;34m(self, input)\u001b[0m\n\u001b[0;32m    311\u001b[0m \u001b[1;33m\u001b[0m\u001b[0m\n\u001b[0;32m    312\u001b[0m     \u001b[1;32mdef\u001b[0m \u001b[0mforward\u001b[0m\u001b[1;33m(\u001b[0m\u001b[0mself\u001b[0m\u001b[1;33m,\u001b[0m \u001b[0minput\u001b[0m\u001b[1;33m:\u001b[0m \u001b[0mTensor\u001b[0m\u001b[1;33m)\u001b[0m \u001b[1;33m->\u001b[0m \u001b[0mTensor\u001b[0m\u001b[1;33m:\u001b[0m\u001b[1;33m\u001b[0m\u001b[1;33m\u001b[0m\u001b[0m\n\u001b[1;32m--> 313\u001b[1;33m         \u001b[1;32mreturn\u001b[0m \u001b[0mself\u001b[0m\u001b[1;33m.\u001b[0m\u001b[0m_conv_forward\u001b[0m\u001b[1;33m(\u001b[0m\u001b[0minput\u001b[0m\u001b[1;33m,\u001b[0m \u001b[0mself\u001b[0m\u001b[1;33m.\u001b[0m\u001b[0mweight\u001b[0m\u001b[1;33m,\u001b[0m \u001b[0mself\u001b[0m\u001b[1;33m.\u001b[0m\u001b[0mbias\u001b[0m\u001b[1;33m)\u001b[0m\u001b[1;33m\u001b[0m\u001b[1;33m\u001b[0m\u001b[0m\n\u001b[0m\u001b[0;32m    314\u001b[0m \u001b[1;33m\u001b[0m\u001b[0m\n\u001b[0;32m    315\u001b[0m \u001b[1;33m\u001b[0m\u001b[0m\n",
            "\u001b[1;32m~\\AppData\\Roaming\\Python\\Python37\\site-packages\\torch\\nn\\modules\\conv.py\u001b[0m in \u001b[0;36m_conv_forward\u001b[1;34m(self, input, weight, bias)\u001b[0m\n\u001b[0;32m    308\u001b[0m                             _single(0), self.dilation, self.groups)\n\u001b[0;32m    309\u001b[0m         return F.conv1d(input, weight, bias, self.stride,\n\u001b[1;32m--> 310\u001b[1;33m                         self.padding, self.dilation, self.groups)\n\u001b[0m\u001b[0;32m    311\u001b[0m \u001b[1;33m\u001b[0m\u001b[0m\n\u001b[0;32m    312\u001b[0m     \u001b[1;32mdef\u001b[0m \u001b[0mforward\u001b[0m\u001b[1;33m(\u001b[0m\u001b[0mself\u001b[0m\u001b[1;33m,\u001b[0m \u001b[0minput\u001b[0m\u001b[1;33m:\u001b[0m \u001b[0mTensor\u001b[0m\u001b[1;33m)\u001b[0m \u001b[1;33m->\u001b[0m \u001b[0mTensor\u001b[0m\u001b[1;33m:\u001b[0m\u001b[1;33m\u001b[0m\u001b[1;33m\u001b[0m\u001b[0m\n",
            "\u001b[1;31mRuntimeError\u001b[0m: expected scalar type Double but found Float"
          ]
        }
      ],
      "source": [
        "datos = pd.read_csv(\"Caso1.csv\",names=['DI', 'DII', 'DIII', 'AVR', 'AVL', 'AVF', 'V1', 'V2', 'V3', 'V4', 'V5', 'V6'],dtype=np.double)\n",
        "\n",
        "model = torch.load(f\"{pathModels}/CPSC-2018/best.ptl\", map_location=torch.device('cpu'))\n",
        "inp = [[]]\n",
        "inp[0] = datos.values\n",
        "print(inp)\n",
        "tensor_entrada = torch.tensor(inp,dtype=torch.double)\n",
        "print(tensor_entrada.shape)\n",
        "pred = model(tensor_entrada)\n",
        "pred"
      ]
    },
    {
      "attachments": {},
      "cell_type": "markdown",
      "metadata": {
        "id": "8TYHfsOuimDk"
      },
      "source": [
        "# procesar_archivo"
      ]
    },
    {
      "cell_type": "code",
      "execution_count": 18,
      "metadata": {
        "id": "VB7pCXdazHhN"
      },
      "outputs": [],
      "source": [
        "def procesar_archivo(formato,sexo,edad,archivo):\n",
        "  datos = []\n",
        "  if(formato == 'XML'):\n",
        "    datos = pd.read_csv(archivo.name,names=['DI', 'DII', 'DIII', 'AVR', 'AVL', 'AVF', 'V1', 'V2', 'V3', 'V4', 'V5', 'V6'])\n",
        "  else:\n",
        "    datos = pd.read_csv(archivo,names=['DI', 'DII', 'DIII', 'AVR', 'AVL', 'AVF', 'V1', 'V2', 'V3', 'V4', 'V5', 'V6'])\n",
        "  ###########################\n",
        "  ### cambio de formato para poder predecir ###\n",
        "  #datos = datos.values[:4096,:]\n",
        "  ###########################\n",
        "  #generateH5(datos,\n",
        "  #         \"ecg.hdf5\",new_freq=400,new_len=4096,\n",
        "  #         scale=2,powerline=None,use_all_leads=True,\n",
        "  #         remove_baseline=False,root_dir=None,fmt='wfdb')\n",
        "  #f = h5py.File(\"ecg.hdf5\", 'r')\n",
        "  #antonior92 = predict_antonior92(f['tracings'])\n",
        "  #f.close()\n",
        "  antonior92 = []\n",
        "  CPSC = predict_CPSC_2018(datos)\n",
        "  #CPSC = []\n",
        "  #Chapman = predict_Chapman(datos)\n",
        "  Chapman =[]\n",
        "  result = pd.DataFrame(data = [['Antonior92',antonior92],['CPSC-2018',CPSC],['Chapman',Chapman]],columns=['Red','Predicción'],)\n",
        "  #result = pd.DataFrame()\n",
        "  print(result)\n",
        "\n",
        "  return result"
      ]
    },
    {
      "cell_type": "code",
      "execution_count": 25,
      "metadata": {
        "colab": {
          "base_uri": "https://localhost:8080/",
          "height": 936
        },
        "id": "qxAY8jt6zLjn",
        "outputId": "b44ff1b2-c44f-4e9b-9f21-088f0f09b435"
      },
      "outputs": [
        {
          "ename": "NameError",
          "evalue": "name 'train_loaders' is not defined",
          "output_type": "error",
          "traceback": [
            "\u001b[1;31m---------------------------------------------------------------------------\u001b[0m",
            "\u001b[1;31mNameError\u001b[0m                                 Traceback (most recent call last)",
            "\u001b[1;32m~\\AppData\\Local\\Temp\\ipykernel_6924\\3921427104.py\u001b[0m in \u001b[0;36m<module>\u001b[1;34m\u001b[0m\n\u001b[1;32m----> 1\u001b[1;33m \u001b[0mprocesar_archivo\u001b[0m\u001b[1;33m(\u001b[0m\u001b[1;34m'CSV'\u001b[0m\u001b[1;33m,\u001b[0m\u001b[1;36m0\u001b[0m\u001b[1;33m,\u001b[0m\u001b[1;36m0\u001b[0m\u001b[1;33m,\u001b[0m\u001b[1;34m'Caso1.csv'\u001b[0m\u001b[1;33m)\u001b[0m\u001b[1;33m\u001b[0m\u001b[1;33m\u001b[0m\u001b[0m\n\u001b[0m",
            "\u001b[1;32m~\\AppData\\Local\\Temp\\ipykernel_6924\\2189859278.py\u001b[0m in \u001b[0;36mprocesar_archivo\u001b[1;34m(formato, sexo, edad, archivo)\u001b[0m\n\u001b[0;32m     17\u001b[0m   \u001b[1;31m#f.close()\u001b[0m\u001b[1;33m\u001b[0m\u001b[1;33m\u001b[0m\u001b[1;33m\u001b[0m\u001b[0m\n\u001b[0;32m     18\u001b[0m   \u001b[0mantonior92\u001b[0m \u001b[1;33m=\u001b[0m \u001b[1;33m[\u001b[0m\u001b[1;33m]\u001b[0m\u001b[1;33m\u001b[0m\u001b[1;33m\u001b[0m\u001b[0m\n\u001b[1;32m---> 19\u001b[1;33m   \u001b[0mCPSC\u001b[0m \u001b[1;33m=\u001b[0m \u001b[0mpredict_CPSC_2018\u001b[0m\u001b[1;33m(\u001b[0m\u001b[0mdatos\u001b[0m\u001b[1;33m)\u001b[0m\u001b[1;33m\u001b[0m\u001b[1;33m\u001b[0m\u001b[0m\n\u001b[0m\u001b[0;32m     20\u001b[0m   \u001b[1;31m#CPSC = []\u001b[0m\u001b[1;33m\u001b[0m\u001b[1;33m\u001b[0m\u001b[1;33m\u001b[0m\u001b[0m\n\u001b[0;32m     21\u001b[0m   \u001b[1;31m#Chapman = predict_Chapman(datos)\u001b[0m\u001b[1;33m\u001b[0m\u001b[1;33m\u001b[0m\u001b[1;33m\u001b[0m\u001b[0m\n",
            "\u001b[1;32m~\\AppData\\Local\\Temp\\ipykernel_6924\\2366309514.py\u001b[0m in \u001b[0;36mpredict_CPSC_2018\u001b[1;34m(ecg)\u001b[0m\n\u001b[0;32m      9\u001b[0m         \u001b[0mmodel\u001b[0m\u001b[1;33m.\u001b[0m\u001b[0meval\u001b[0m\u001b[1;33m(\u001b[0m\u001b[1;33m)\u001b[0m\u001b[1;33m\u001b[0m\u001b[1;33m\u001b[0m\u001b[0m\n\u001b[0;32m     10\u001b[0m         \u001b[0mrunning_labels\u001b[0m\u001b[1;33m,\u001b[0m \u001b[0mrunning_preds\u001b[0m \u001b[1;33m=\u001b[0m \u001b[1;33m[\u001b[0m\u001b[1;33m]\u001b[0m\u001b[1;33m,\u001b[0m \u001b[1;33m[\u001b[0m\u001b[1;33m]\u001b[0m\u001b[1;33m\u001b[0m\u001b[1;33m\u001b[0m\u001b[0m\n\u001b[1;32m---> 11\u001b[1;33m         \u001b[1;32mfor\u001b[0m \u001b[0mecgs\u001b[0m\u001b[1;33m,\u001b[0m \u001b[0mlabels\u001b[0m \u001b[1;32min\u001b[0m \u001b[0mtqdm\u001b[0m\u001b[1;33m(\u001b[0m\u001b[0mtrain_loaders\u001b[0m\u001b[1;33m[\u001b[0m\u001b[1;34m\"pred\"\u001b[0m\u001b[1;33m]\u001b[0m\u001b[1;33m,\u001b[0m \u001b[0mdisable\u001b[0m \u001b[1;33m=\u001b[0m \u001b[1;32mnot\u001b[0m \u001b[0mtraining_verbose\u001b[0m\u001b[1;33m)\u001b[0m\u001b[1;33m:\u001b[0m\u001b[1;33m\u001b[0m\u001b[1;33m\u001b[0m\u001b[0m\n\u001b[0m\u001b[0;32m     12\u001b[0m             \u001b[0mecgs\u001b[0m\u001b[1;33m,\u001b[0m \u001b[0mlabels\u001b[0m \u001b[1;33m=\u001b[0m \u001b[0mecgs\u001b[0m\u001b[1;33m.\u001b[0m\u001b[0mcuda\u001b[0m\u001b[1;33m(\u001b[0m\u001b[1;33m)\u001b[0m\u001b[1;33m,\u001b[0m \u001b[0mlabels\u001b[0m\u001b[1;33m.\u001b[0m\u001b[0mcuda\u001b[0m\u001b[1;33m(\u001b[0m\u001b[1;33m)\u001b[0m\u001b[1;33m\u001b[0m\u001b[1;33m\u001b[0m\u001b[0m\n\u001b[0;32m     13\u001b[0m             \u001b[0mlogits\u001b[0m \u001b[1;33m=\u001b[0m \u001b[0mmodel\u001b[0m\u001b[1;33m(\u001b[0m\u001b[0mecgs\u001b[0m\u001b[1;33m)\u001b[0m\u001b[1;33m\u001b[0m\u001b[1;33m\u001b[0m\u001b[0m\n",
            "\u001b[1;31mNameError\u001b[0m: name 'train_loaders' is not defined"
          ]
        }
      ],
      "source": [
        "procesar_archivo('CSV',0,0,'Caso1.csv')"
      ]
    },
    {
      "attachments": {},
      "cell_type": "markdown",
      "metadata": {
        "id": "QSc6OSzCCBG-"
      },
      "source": [
        "# Interfaz\n"
      ]
    },
    {
      "cell_type": "code",
      "execution_count": 22,
      "metadata": {
        "colab": {
          "base_uri": "https://localhost:8080/",
          "height": 844
        },
        "id": "C5nqs_q15Zd2",
        "outputId": "f35ecc4d-60ac-4d3c-b854-f575086ef33b"
      },
      "outputs": [
        {
          "name": "stderr",
          "output_type": "stream",
          "text": [
            "C:\\Users\\quin-\\AppData\\Roaming\\Python\\Python37\\site-packages\\gradio\\inputs.py:220: UserWarning: Usage of gradio.inputs is deprecated, and will not be supported in the future, please import your component from gradio.components\n",
            "  \"Usage of gradio.inputs is deprecated, and will not be supported in the future, please import your component from gradio.components\",\n",
            "C:\\Users\\quin-\\AppData\\Roaming\\Python\\Python37\\site-packages\\gradio\\deprecation.py:40: UserWarning: `optional` parameter is deprecated, and it has no effect\n",
            "  warnings.warn(value)\n",
            "C:\\Users\\quin-\\AppData\\Roaming\\Python\\Python37\\site-packages\\gradio\\inputs.py:90: UserWarning: Usage of gradio.inputs is deprecated, and will not be supported in the future, please import your component from gradio.components\n",
            "  \"Usage of gradio.inputs is deprecated, and will not be supported in the future, please import your component from gradio.components\",\n",
            "C:\\Users\\quin-\\AppData\\Roaming\\Python\\Python37\\site-packages\\gradio\\inputs.py:350: UserWarning: Usage of gradio.inputs is deprecated, and will not be supported in the future, please import your components from gradio.components\n",
            "  \"Usage of gradio.inputs is deprecated, and will not be supported in the future, please import your components from gradio.components\",\n",
            "C:\\Users\\quin-\\AppData\\Roaming\\Python\\Python37\\site-packages\\gradio\\deprecation.py:40: UserWarning: `keep_filename` parameter is deprecated, and it has no effect\n",
            "  warnings.warn(value)\n",
            "C:\\Users\\quin-\\AppData\\Roaming\\Python\\Python37\\site-packages\\gradio\\outputs.py:129: UserWarning: Usage of gradio.outputs is deprecated, and will not be supported in the future, please import your components from gradio.components\n",
            "  \"Usage of gradio.outputs is deprecated, and will not be supported in the future, please import your components from gradio.components\",\n"
          ]
        },
        {
          "name": "stdout",
          "output_type": "stream",
          "text": [
            "Running on local URL:  http://127.0.0.1:7861\n",
            "\n",
            "To create a public link, set `share=True` in `launch()`.\n"
          ]
        },
        {
          "data": {
            "text/html": [
              "<div><iframe src=\"http://127.0.0.1:7861/\" width=\"100%\" height=\"500\" allow=\"autoplay; camera; microphone; clipboard-read; clipboard-write;\" frameborder=\"0\" allowfullscreen></iframe></div>"
            ],
            "text/plain": [
              "<IPython.core.display.HTML object>"
            ]
          },
          "metadata": {},
          "output_type": "display_data"
        },
        {
          "data": {
            "text/plain": []
          },
          "execution_count": 22,
          "metadata": {},
          "output_type": "execute_result"
        },
        {
          "name": "stderr",
          "output_type": "stream",
          "text": [
            "Traceback (most recent call last):\n",
            "  File \"C:\\Users\\quin-\\AppData\\Roaming\\Python\\Python37\\site-packages\\gradio\\routes.py\", line 419, in run_predict\n",
            "    event_data=event_data,\n",
            "  File \"C:\\Users\\quin-\\AppData\\Roaming\\Python\\Python37\\site-packages\\gradio\\blocks.py\", line 1300, in process_api\n",
            "    fn_index, inputs, iterator, request, event_id, event_data\n",
            "  File \"C:\\Users\\quin-\\AppData\\Roaming\\Python\\Python37\\site-packages\\gradio\\blocks.py\", line 1022, in call_function\n",
            "    fn, *processed_input, limiter=self.limiter\n",
            "  File \"C:\\Users\\quin-\\AppData\\Roaming\\Python\\Python37\\site-packages\\anyio\\to_thread.py\", line 32, in run_sync\n",
            "    func, *args, cancellable=cancellable, limiter=limiter\n",
            "  File \"C:\\Users\\quin-\\AppData\\Roaming\\Python\\Python37\\site-packages\\anyio\\_backends\\_asyncio.py\", line 937, in run_sync_in_worker_thread\n",
            "    return await future\n",
            "  File \"C:\\Users\\quin-\\AppData\\Roaming\\Python\\Python37\\site-packages\\anyio\\_backends\\_asyncio.py\", line 867, in run\n",
            "    result = context.run(func, *args)\n",
            "  File \"C:\\Users\\quin-\\AppData\\Local\\Temp\\ipykernel_6924\\2189859278.py\", line 19, in procesar_archivo\n",
            "    CPSC = predict_CPSC_2018(datos)\n",
            "  File \"C:\\Users\\quin-\\AppData\\Local\\Temp\\ipykernel_6924\\2366309514.py\", line 11, in predict_CPSC_2018\n",
            "    for ecgs, labels in tqdm(train_loaders[\"pred\"], disable = not training_verbose):\n",
            "NameError: name 'train_loaders' is not defined\n"
          ]
        }
      ],
      "source": [
        "def saveResponse(formato,sexo,edad,archivo):\n",
        "  archivo.to_csv()\n",
        "# Crear la interfaz web\n",
        "entrada = [\n",
        "        gr.inputs.Dropdown([\"XML\",\"CSV\"],default=\"XML\",label= \"Formato del archivo\"),\n",
        "        gr.inputs.Dropdown([\"Hombre\",\"Mujer\"],default=\"Hombre\",label= \"Sexo\"),\n",
        "        gr.inputs.Slider(label= \"Edad\",default=25),\n",
        "        gr.inputs.File(label=\"Selecciona un archivo.\")\n",
        "        ]\n",
        "\n",
        "salida = gr.outputs.Dataframe(label=\"Predicción automática.\",type=\"pandas\",headers = ['Red','Predicción'])\n",
        "\n",
        "\n",
        "Interface = gr.Interface(fn=procesar_archivo, inputs=entrada, outputs=salida, title=\"Analizador automático de ECG\",flagging_dir=\"./salida/\")\n",
        "Interface.launch()\n"
      ]
    },
    {
      "attachments": {},
      "cell_type": "markdown",
      "metadata": {},
      "source": [
        "# cosas"
      ]
    },
    {
      "cell_type": "code",
      "execution_count": 36,
      "metadata": {},
      "outputs": [
        {
          "data": {
            "text/plain": [
              "(12, 5000)"
            ]
          },
          "execution_count": 36,
          "metadata": {},
          "output_type": "execute_result"
        }
      ],
      "source": [
        "npy = np.load('MUSE_20180111_155203_15000.npy')\n",
        "npy.shape"
      ]
    },
    {
      "cell_type": "code",
      "execution_count": 22,
      "metadata": {},
      "outputs": [
        {
          "data": {
            "text/plain": [
              "(12, 7500)"
            ]
          },
          "execution_count": 22,
          "metadata": {},
          "output_type": "execute_result"
        }
      ],
      "source": [
        "csv = pd.read_csv('A0001.csv',header=None)\n",
        "csv.shape"
      ]
    },
    {
      "cell_type": "code",
      "execution_count": 23,
      "metadata": {},
      "outputs": [
        {
          "data": {
            "text/html": [
              "<div>\n",
              "<style scoped>\n",
              "    .dataframe tbody tr th:only-of-type {\n",
              "        vertical-align: middle;\n",
              "    }\n",
              "\n",
              "    .dataframe tbody tr th {\n",
              "        vertical-align: top;\n",
              "    }\n",
              "\n",
              "    .dataframe thead th {\n",
              "        text-align: right;\n",
              "    }\n",
              "</style>\n",
              "<table border=\"1\" class=\"dataframe\">\n",
              "  <thead>\n",
              "    <tr style=\"text-align: right;\">\n",
              "      <th></th>\n",
              "      <th>0</th>\n",
              "      <th>1</th>\n",
              "      <th>2</th>\n",
              "      <th>3</th>\n",
              "      <th>4</th>\n",
              "      <th>5</th>\n",
              "      <th>6</th>\n",
              "      <th>7</th>\n",
              "      <th>8</th>\n",
              "      <th>9</th>\n",
              "      <th>...</th>\n",
              "      <th>7490</th>\n",
              "      <th>7491</th>\n",
              "      <th>7492</th>\n",
              "      <th>7493</th>\n",
              "      <th>7494</th>\n",
              "      <th>7495</th>\n",
              "      <th>7496</th>\n",
              "      <th>7497</th>\n",
              "      <th>7498</th>\n",
              "      <th>7499</th>\n",
              "    </tr>\n",
              "  </thead>\n",
              "  <tbody>\n",
              "    <tr>\n",
              "      <th>0</th>\n",
              "      <td>0.028229</td>\n",
              "      <td>0.039229</td>\n",
              "      <td>0.045229</td>\n",
              "      <td>0.049229</td>\n",
              "      <td>0.054229</td>\n",
              "      <td>0.056229</td>\n",
              "      <td>0.058229</td>\n",
              "      <td>0.060229</td>\n",
              "      <td>0.060229</td>\n",
              "      <td>0.061229</td>\n",
              "      <td>...</td>\n",
              "      <td>0.248229</td>\n",
              "      <td>0.250229</td>\n",
              "      <td>0.251229</td>\n",
              "      <td>0.252229</td>\n",
              "      <td>0.253229</td>\n",
              "      <td>0.254229</td>\n",
              "      <td>0.256229</td>\n",
              "      <td>0.258229</td>\n",
              "      <td>0.259229</td>\n",
              "      <td>0.259229</td>\n",
              "    </tr>\n",
              "    <tr>\n",
              "      <th>1</th>\n",
              "      <td>0.006729</td>\n",
              "      <td>0.010729</td>\n",
              "      <td>0.014729</td>\n",
              "      <td>0.016729</td>\n",
              "      <td>0.019729</td>\n",
              "      <td>0.023729</td>\n",
              "      <td>0.028729</td>\n",
              "      <td>0.034729</td>\n",
              "      <td>0.040729</td>\n",
              "      <td>0.047729</td>\n",
              "      <td>...</td>\n",
              "      <td>0.233729</td>\n",
              "      <td>0.237729</td>\n",
              "      <td>0.239729</td>\n",
              "      <td>0.241729</td>\n",
              "      <td>0.243729</td>\n",
              "      <td>0.244729</td>\n",
              "      <td>0.245729</td>\n",
              "      <td>0.247729</td>\n",
              "      <td>0.248729</td>\n",
              "      <td>0.249729</td>\n",
              "    </tr>\n",
              "    <tr>\n",
              "      <th>2</th>\n",
              "      <td>-0.021499</td>\n",
              "      <td>-0.028499</td>\n",
              "      <td>-0.030499</td>\n",
              "      <td>-0.032499</td>\n",
              "      <td>-0.034499</td>\n",
              "      <td>-0.032499</td>\n",
              "      <td>-0.029499</td>\n",
              "      <td>-0.025499</td>\n",
              "      <td>-0.019499</td>\n",
              "      <td>-0.013499</td>\n",
              "      <td>...</td>\n",
              "      <td>-0.014499</td>\n",
              "      <td>-0.012499</td>\n",
              "      <td>-0.011499</td>\n",
              "      <td>-0.010499</td>\n",
              "      <td>-0.009499</td>\n",
              "      <td>-0.009499</td>\n",
              "      <td>-0.010499</td>\n",
              "      <td>-0.010499</td>\n",
              "      <td>-0.010499</td>\n",
              "      <td>-0.009499</td>\n",
              "    </tr>\n",
              "    <tr>\n",
              "      <th>3</th>\n",
              "      <td>-0.017491</td>\n",
              "      <td>-0.024491</td>\n",
              "      <td>-0.029491</td>\n",
              "      <td>-0.032491</td>\n",
              "      <td>-0.036491</td>\n",
              "      <td>-0.039491</td>\n",
              "      <td>-0.042491</td>\n",
              "      <td>-0.047491</td>\n",
              "      <td>-0.050491</td>\n",
              "      <td>-0.054491</td>\n",
              "      <td>...</td>\n",
              "      <td>-0.240491</td>\n",
              "      <td>-0.243491</td>\n",
              "      <td>-0.245491</td>\n",
              "      <td>-0.246491</td>\n",
              "      <td>-0.248491</td>\n",
              "      <td>-0.249491</td>\n",
              "      <td>-0.251491</td>\n",
              "      <td>-0.252491</td>\n",
              "      <td>-0.254491</td>\n",
              "      <td>-0.254491</td>\n",
              "    </tr>\n",
              "    <tr>\n",
              "      <th>4</th>\n",
              "      <td>0.024355</td>\n",
              "      <td>0.033355</td>\n",
              "      <td>0.038355</td>\n",
              "      <td>0.041355</td>\n",
              "      <td>0.044355</td>\n",
              "      <td>0.044355</td>\n",
              "      <td>0.044355</td>\n",
              "      <td>0.042355</td>\n",
              "      <td>0.039355</td>\n",
              "      <td>0.036355</td>\n",
              "      <td>...</td>\n",
              "      <td>0.131355</td>\n",
              "      <td>0.131355</td>\n",
              "      <td>0.131355</td>\n",
              "      <td>0.131355</td>\n",
              "      <td>0.131355</td>\n",
              "      <td>0.131355</td>\n",
              "      <td>0.132355</td>\n",
              "      <td>0.134355</td>\n",
              "      <td>0.134355</td>\n",
              "      <td>0.134355</td>\n",
              "    </tr>\n",
              "  </tbody>\n",
              "</table>\n",
              "<p>5 rows × 7500 columns</p>\n",
              "</div>"
            ],
            "text/plain": [
              "       0         1         2         3         4         5         6     \\\n",
              "0  0.028229  0.039229  0.045229  0.049229  0.054229  0.056229  0.058229   \n",
              "1  0.006729  0.010729  0.014729  0.016729  0.019729  0.023729  0.028729   \n",
              "2 -0.021499 -0.028499 -0.030499 -0.032499 -0.034499 -0.032499 -0.029499   \n",
              "3 -0.017491 -0.024491 -0.029491 -0.032491 -0.036491 -0.039491 -0.042491   \n",
              "4  0.024355  0.033355  0.038355  0.041355  0.044355  0.044355  0.044355   \n",
              "\n",
              "       7         8         9     ...      7490      7491      7492      7493  \\\n",
              "0  0.060229  0.060229  0.061229  ...  0.248229  0.250229  0.251229  0.252229   \n",
              "1  0.034729  0.040729  0.047729  ...  0.233729  0.237729  0.239729  0.241729   \n",
              "2 -0.025499 -0.019499 -0.013499  ... -0.014499 -0.012499 -0.011499 -0.010499   \n",
              "3 -0.047491 -0.050491 -0.054491  ... -0.240491 -0.243491 -0.245491 -0.246491   \n",
              "4  0.042355  0.039355  0.036355  ...  0.131355  0.131355  0.131355  0.131355   \n",
              "\n",
              "       7494      7495      7496      7497      7498      7499  \n",
              "0  0.253229  0.254229  0.256229  0.258229  0.259229  0.259229  \n",
              "1  0.243729  0.244729  0.245729  0.247729  0.248729  0.249729  \n",
              "2 -0.009499 -0.009499 -0.010499 -0.010499 -0.010499 -0.009499  \n",
              "3 -0.248491 -0.249491 -0.251491 -0.252491 -0.254491 -0.254491  \n",
              "4  0.131355  0.131355  0.132355  0.134355  0.134355  0.134355  \n",
              "\n",
              "[5 rows x 7500 columns]"
            ]
          },
          "execution_count": 23,
          "metadata": {},
          "output_type": "execute_result"
        }
      ],
      "source": [
        "csv.head()"
      ]
    },
    {
      "cell_type": "code",
      "execution_count": 26,
      "metadata": {},
      "outputs": [],
      "source": [
        "np.save(\"prueba.npy\",csv.values)\n"
      ]
    },
    {
      "cell_type": "code",
      "execution_count": 28,
      "metadata": {},
      "outputs": [
        {
          "data": {
            "text/plain": [
              "12"
            ]
          },
          "execution_count": 28,
          "metadata": {},
          "output_type": "execute_result"
        }
      ],
      "source": [
        "len(csv)"
      ]
    },
    {
      "cell_type": "code",
      "execution_count": 38,
      "metadata": {},
      "outputs": [
        {
          "data": {
            "text/plain": [
              "(2, 14)"
            ]
          },
          "execution_count": 38,
          "metadata": {},
          "output_type": "execute_result"
        }
      ],
      "source": [
        "csv2 = pd.read_csv('./datasets/pred.csv',header=None)\n",
        "csv2.shape\n"
      ]
    },
    {
      "cell_type": "code",
      "execution_count": 40,
      "metadata": {},
      "outputs": [
        {
          "data": {
            "text/plain": [
              "(12, 5500)"
            ]
          },
          "execution_count": 40,
          "metadata": {},
          "output_type": "execute_result"
        }
      ],
      "source": [
        "npy2 = np.load('./datasets/pred.npy')\n",
        "npy2.shape"
      ]
    },
    {
      "cell_type": "code",
      "execution_count": 77,
      "metadata": {},
      "outputs": [
        {
          "data": {
            "text/plain": [
              "(12, 5000)"
            ]
          },
          "execution_count": 77,
          "metadata": {},
          "output_type": "execute_result"
        }
      ],
      "source": [
        "old = np.load('MUSE_20180111_155203_15000.npy')\n",
        "old.shape"
      ]
    },
    {
      "cell_type": "code",
      "execution_count": 83,
      "metadata": {},
      "outputs": [
        {
          "data": {
            "text/plain": [
              "(12, 7500)"
            ]
          },
          "execution_count": 83,
          "metadata": {},
          "output_type": "execute_result"
        }
      ],
      "source": [
        "new = np.load('./datasets/pred.npy')\n",
        "new.shape"
      ]
    },
    {
      "cell_type": "code",
      "execution_count": 7,
      "metadata": {},
      "outputs": [],
      "source": [
        "import numpy as np\n",
        "import pandas as pd\n",
        "\n",
        "file = 'MUSE_20180111_155633_99000'\n",
        "data = np.load(f'{file}.npy')\n",
        "df = pd.DataFrame(data.T)\n",
        "df.to_csv(f'{file}.csv',index=False,header=False)"
      ]
    }
  ],
  "metadata": {
    "colab": {
      "collapsed_sections": [
        "WRDG2IG88Bth",
        "fu6L7rtvijFj"
      ],
      "provenance": []
    },
    "kernelspec": {
      "display_name": "Python 3",
      "language": "python",
      "name": "python3"
    },
    "language_info": {
      "codemirror_mode": {
        "name": "ipython",
        "version": 3
      },
      "file_extension": ".py",
      "mimetype": "text/x-python",
      "name": "python",
      "nbconvert_exporter": "python",
      "pygments_lexer": "ipython3",
      "version": "3.7.8"
    },
    "orig_nbformat": 4
  },
  "nbformat": 4,
  "nbformat_minor": 0
}
